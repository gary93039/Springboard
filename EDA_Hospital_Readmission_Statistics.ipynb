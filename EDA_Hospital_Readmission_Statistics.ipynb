{
 "cells": [
  {
   "cell_type": "markdown",
   "metadata": {},
   "source": [
    "# Hospital Readmissions Data Analysis and Recommendations for Reduction\n",
    "\n",
    "### Background\n",
    "In October 2012, the US government's Center for Medicare and Medicaid Services (CMS) began reducing Medicare payments for Inpatient Prospective Payment System hospitals with excess readmissions. Excess readmissions are measured by a ratio, by dividing a hospital’s number of “predicted” 30-day readmissions for heart attack, heart failure, and pneumonia by the number that would be “expected,” based on an average hospital with similar patients. A ratio greater than 1 indicates excess readmissions.\n",
    "\n",
    "### Exercise Directions\n",
    "\n",
    "In this exercise, you will:\n",
    "+ critique a preliminary analysis of readmissions data and recommendations (provided below) for reducing the readmissions rate\n",
    "+ construct a statistically sound analysis and make recommendations of your own \n",
    "\n",
    "More instructions provided below. Include your work **in this notebook and submit to your Github account**. \n",
    "\n",
    "### Resources\n",
    "+ Data source: https://data.medicare.gov/Hospital-Compare/Hospital-Readmission-Reduction/9n3s-kdb3\n",
    "+ More information: http://www.cms.gov/Medicare/medicare-fee-for-service-payment/acuteinpatientPPS/readmissions-reduction-program.html\n",
    "+ Markdown syntax: http://nestacms.com/docs/creating-content/markdown-cheat-sheet\n",
    "****"
   ]
  },
  {
   "cell_type": "code",
   "execution_count": 1,
   "metadata": {
    "collapsed": false
   },
   "outputs": [],
   "source": [
    "%matplotlib inline\n",
    "\n",
    "import pandas as pd\n",
    "import numpy as np\n",
    "import matplotlib.pyplot as plt\n",
    "import bokeh.plotting as bkp\n",
    "from mpl_toolkits.axes_grid1 import make_axes_locatable"
   ]
  },
  {
   "cell_type": "code",
   "execution_count": 2,
   "metadata": {
    "collapsed": false
   },
   "outputs": [
    {
     "name": "stdout",
     "output_type": "stream",
     "text": [
      "                                           Hospital Name  Provider Number  \\\n",
      "0                   FROEDTERT MEMORIAL LUTHERAN HOSPITAL           520177   \n",
      "1                                    PROVIDENCE HOSPITAL            90006   \n",
      "2                      BEAUFORT COUNTY MEMORIAL HOSPITAL           420067   \n",
      "3              ADVOCATE CHRIST HOSPITAL & MEDICAL CENTER           140208   \n",
      "4                      BRAZOSPORT REGIONAL HEALTH SYSTEM           450072   \n",
      "5                        WESTERN MISSOURI MEDICAL CENTER           260097   \n",
      "6                                   SAINT AGNES HOSPITAL           210011   \n",
      "7                               MERCY HOSPITAL JEFFERSON           260023   \n",
      "8                               ONSLOW MEMORIAL HOSPITAL           340042   \n",
      "9                                      FAUQUIER HOSPITAL           490023   \n",
      "10     ROBERT WOOD JOHNSON UNIVERSITY HOSPITAL AT RAHWAY           310024   \n",
      "11                                MERCY ST ANNE HOSPITAL           360262   \n",
      "12                                RESTON HOSPITAL CENTER           490107   \n",
      "13              CAPITAL HEALTH MEDICAL CENTER - HOPEWELL           310044   \n",
      "14                  THOMAS JEFFERSON UNIVERSITY HOSPITAL           390174   \n",
      "15                                HOUSTON MEDICAL CENTER           110069   \n",
      "16                UNIVERSITY OF TEXAS MEDICAL BRANCH GAL           450018   \n",
      "17                            VALLEY VIEW MEDICAL CENTER            30117   \n",
      "18                          REGIONAL HOSPITAL OF JACKSON           440189   \n",
      "19                                    METROPLEX HOSPITAL           450152   \n",
      "20                               HENDRICK MEDICAL CENTER           450229   \n",
      "21     UNIVERSITY OF COLORADO HOSPITAL ANSCHUTZ INPAT...            60024   \n",
      "22                        ST CATHERINE OF SIENA HOSPITAL           330401   \n",
      "23                       LITTLE COMPANY OF MARY HOSPITAL           140179   \n",
      "24                   SAINT MICHAEL'S MEDICAL CENTER, INC           310096   \n",
      "25                     CHRISTUS ST MICHAEL HEALTH SYSTEM           450801   \n",
      "26                            JOHNSTON MEMORIAL HOSPITAL           490053   \n",
      "27                        NORTHWESTERN MEMORIAL HOSPITAL           140281   \n",
      "28            JACKSON COUNTY MEMORIAL HOSPITAL AUTHORITY           370022   \n",
      "29                              RALEIGH GENERAL HOSPITAL           510070   \n",
      "...                                                  ...              ...   \n",
      "16830                         BAILEY MEDICAL CENTER, LLC           370228   \n",
      "16831                       MC DONOUGH DISTRICT HOSPITAL           140089   \n",
      "16832                       MIDWESTERN REGION MED CENTER           140100   \n",
      "16833                                 HIGHLANDS HOSPITAL           390184   \n",
      "16834                        UNIVERSITY GENERAL HOSPITAL           670019   \n",
      "16835                                   MAYHILL HOSPITAL           670010   \n",
      "16836        MEMORIAL HERMANN SURGICAL HOSPITAL KINGWOOD           670005   \n",
      "16837                 UNIVERSITY GENERAL HOSPITAL DALLAS           670002   \n",
      "16838                    MOUNTAIN VIEW REGIONAL HOSPITAL           530033   \n",
      "16839                              SUMMIT MEDICAL CENTER           370225   \n",
      "16840                                     ONECORE HEALTH           370220   \n",
      "16841                            COMMUNITY HOSPITAL, LLC           370203   \n",
      "16842                      SURGICAL HOSPITAL OF OKLAHOMA           370201   \n",
      "16843  FRANCISCAN ST ELIZABETH HEALTH - LAFAYETTE CEN...           150003   \n",
      "16844               SOUTHWESTERN REGIONAL MEDICAL CENTER           370190   \n",
      "16845                             HILL REGIONAL HOSPITAL           450192   \n",
      "16846                               GRACE MEDICAL CENTER           450162   \n",
      "16847                                  TRINITY MUSCATINE           160013   \n",
      "16848                          SARTORI MEMORIAL HOSPITAL           160040   \n",
      "16849                           NY EYE AND EAR INFIRMARY           330100   \n",
      "16850                            JONES MEMORIAL HOSPITAL           330096   \n",
      "16851                  BROOKDALE HOSPITAL MEDICAL CENTER           330233   \n",
      "16852                                SGMC BERRIEN CAMPUS           110234   \n",
      "16853                  MEMORIAL HOSPITAL OF SALEM COUNTY           310091   \n",
      "16854                   COMMUNITY MEMORIAL HOSPITAL, INC           330249   \n",
      "16855                          BERTRAND CHAFFEE HOSPITAL           330111   \n",
      "16856                     CROWNPOINT HEALTHCARE FACILITY           320062   \n",
      "16857                        THREE RIVERS MEDICAL CENTER           180128   \n",
      "16858                       GALLUP INDIAN MEDICAL CENTER           320061   \n",
      "16859                  UNIVERSITY OF LOUISVILLE HOSPITAL           180141   \n",
      "\n",
      "      State            Measure Name Number of Discharges  Footnote  \\\n",
      "0        WI  READM-30-HIP-KNEE-HRRP                  242       NaN   \n",
      "1        DC  READM-30-HIP-KNEE-HRRP                  247       NaN   \n",
      "2        SC  READM-30-HIP-KNEE-HRRP                  586       NaN   \n",
      "3        IL  READM-30-HIP-KNEE-HRRP                  965       NaN   \n",
      "4        TX  READM-30-HIP-KNEE-HRRP                  149       NaN   \n",
      "5        MO  READM-30-HIP-KNEE-HRRP                  141       NaN   \n",
      "6        MD  READM-30-HIP-KNEE-HRRP                  390       NaN   \n",
      "7        MO  READM-30-HIP-KNEE-HRRP                  178       NaN   \n",
      "8        NC  READM-30-HIP-KNEE-HRRP                   98       NaN   \n",
      "9        VA  READM-30-HIP-KNEE-HRRP                  256       NaN   \n",
      "10       NJ  READM-30-HIP-KNEE-HRRP                  121       NaN   \n",
      "11       OH  READM-30-HIP-KNEE-HRRP                  108       NaN   \n",
      "12       VA  READM-30-HIP-KNEE-HRRP                  780       NaN   \n",
      "13       NJ  READM-30-HIP-KNEE-HRRP                  216       NaN   \n",
      "14       PA  READM-30-HIP-KNEE-HRRP                 1458       NaN   \n",
      "15       GA  READM-30-HIP-KNEE-HRRP                  238       NaN   \n",
      "16       TX  READM-30-HIP-KNEE-HRRP                  154       NaN   \n",
      "17       AZ  READM-30-HIP-KNEE-HRRP                  117       NaN   \n",
      "18       TN  READM-30-HIP-KNEE-HRRP                  322       NaN   \n",
      "19       TX  READM-30-HIP-KNEE-HRRP                   98       NaN   \n",
      "20       TX  READM-30-HIP-KNEE-HRRP                  493       NaN   \n",
      "21       CO  READM-30-HIP-KNEE-HRRP                  332       NaN   \n",
      "22       NY  READM-30-HIP-KNEE-HRRP                  136       NaN   \n",
      "23       IL  READM-30-HIP-KNEE-HRRP                  179       NaN   \n",
      "24       NJ  READM-30-HIP-KNEE-HRRP                   97       NaN   \n",
      "25       TX  READM-30-HIP-KNEE-HRRP                  536       NaN   \n",
      "26       VA  READM-30-HIP-KNEE-HRRP                  268       NaN   \n",
      "27       IL  READM-30-HIP-KNEE-HRRP                 1658       NaN   \n",
      "28       OK  READM-30-HIP-KNEE-HRRP                  260       NaN   \n",
      "29       WV  READM-30-HIP-KNEE-HRRP                   57       NaN   \n",
      "...     ...                     ...                  ...       ...   \n",
      "16830    OK       READM-30-AMI-HRRP        Not Available       1.0   \n",
      "16831    IL       READM-30-AMI-HRRP        Not Available       1.0   \n",
      "16832    IL      READM-30-COPD-HRRP        Not Available       1.0   \n",
      "16833    PA  READM-30-HIP-KNEE-HRRP        Not Available       1.0   \n",
      "16834    TX  READM-30-HIP-KNEE-HRRP        Not Available       1.0   \n",
      "16835    TX        READM-30-PN-HRRP        Not Available       5.0   \n",
      "16836    TX      READM-30-COPD-HRRP        Not Available       5.0   \n",
      "16837    TX       READM-30-AMI-HRRP        Not Available       1.0   \n",
      "16838    WY      READM-30-COPD-HRRP        Not Available       1.0   \n",
      "16839    OK  READM-30-HIP-KNEE-HRRP        Not Available       1.0   \n",
      "16840    OK        READM-30-HF-HRRP        Not Available       5.0   \n",
      "16841    OK      READM-30-COPD-HRRP        Not Available       1.0   \n",
      "16842    OK  READM-30-HIP-KNEE-HRRP        Not Available       1.0   \n",
      "16843    IN  READM-30-HIP-KNEE-HRRP        Not Available       1.0   \n",
      "16844    OK      READM-30-COPD-HRRP        Not Available       1.0   \n",
      "16845    TX       READM-30-AMI-HRRP        Not Available       1.0   \n",
      "16846    TX        READM-30-HF-HRRP        Not Available       1.0   \n",
      "16847    IA  READM-30-HIP-KNEE-HRRP        Not Available       1.0   \n",
      "16848    IA       READM-30-AMI-HRRP        Not Available       1.0   \n",
      "16849    NY       READM-30-AMI-HRRP        Not Available       5.0   \n",
      "16850    NY  READM-30-HIP-KNEE-HRRP        Not Available       5.0   \n",
      "16851    NY  READM-30-HIP-KNEE-HRRP        Not Available       1.0   \n",
      "16852    GA      READM-30-COPD-HRRP        Not Available       5.0   \n",
      "16853    NJ  READM-30-HIP-KNEE-HRRP        Not Available       1.0   \n",
      "16854    NY       READM-30-AMI-HRRP        Not Available       1.0   \n",
      "16855    NY       READM-30-AMI-HRRP        Not Available       1.0   \n",
      "16856    NM       READM-30-AMI-HRRP        Not Available       1.0   \n",
      "16857    KY  READM-30-HIP-KNEE-HRRP                    0       7.0   \n",
      "16858    NM       READM-30-AMI-HRRP        Not Available       1.0   \n",
      "16859    KY  READM-30-HIP-KNEE-HRRP        Not Available       1.0   \n",
      "\n",
      "       Excess Readmission Ratio  Predicted Readmission Rate  \\\n",
      "0                        1.9095                        10.8   \n",
      "1                        1.7521                         9.2   \n",
      "2                        1.5836                         7.6   \n",
      "3                        1.5760                         9.0   \n",
      "4                        1.5308                         8.2   \n",
      "5                        1.5189                         8.1   \n",
      "6                        1.5079                         7.8   \n",
      "7                        1.5019                         9.2   \n",
      "8                        1.4953                         7.9   \n",
      "9                        1.4844                         7.4   \n",
      "10                       1.4776                         9.0   \n",
      "11                       1.4691                         9.2   \n",
      "12                       1.4612                         6.7   \n",
      "13                       1.4559                         8.4   \n",
      "14                       1.4543                         7.5   \n",
      "15                       1.4532                         8.1   \n",
      "16                       1.4528                         7.9   \n",
      "17                       1.4486                         7.2   \n",
      "18                       1.4348                         7.6   \n",
      "19                       1.4333                         7.6   \n",
      "20                       1.4321                         7.6   \n",
      "21                       1.4317                         7.4   \n",
      "22                       1.4200                         7.8   \n",
      "23                       1.4133                         8.2   \n",
      "24                       1.4088                         9.9   \n",
      "25                       1.4033                         7.6   \n",
      "26                       1.4031                         7.4   \n",
      "27                       1.4026                         6.8   \n",
      "28                       1.4022                         7.3   \n",
      "29                       1.3992                         8.5   \n",
      "...                         ...                         ...   \n",
      "16830                       NaN                         NaN   \n",
      "16831                       NaN                         NaN   \n",
      "16832                       NaN                         NaN   \n",
      "16833                       NaN                         NaN   \n",
      "16834                       NaN                         NaN   \n",
      "16835                       NaN                         NaN   \n",
      "16836                       NaN                         NaN   \n",
      "16837                       NaN                         NaN   \n",
      "16838                       NaN                         NaN   \n",
      "16839                       NaN                         NaN   \n",
      "16840                       NaN                         NaN   \n",
      "16841                       NaN                         NaN   \n",
      "16842                       NaN                         NaN   \n",
      "16843                       NaN                         NaN   \n",
      "16844                       NaN                         NaN   \n",
      "16845                       NaN                         NaN   \n",
      "16846                       NaN                         NaN   \n",
      "16847                       NaN                         NaN   \n",
      "16848                       NaN                         NaN   \n",
      "16849                       NaN                         NaN   \n",
      "16850                       NaN                         NaN   \n",
      "16851                       NaN                         NaN   \n",
      "16852                       NaN                         NaN   \n",
      "16853                       NaN                         NaN   \n",
      "16854                       NaN                         NaN   \n",
      "16855                       NaN                         NaN   \n",
      "16856                       NaN                         NaN   \n",
      "16857                       NaN                         NaN   \n",
      "16858                       NaN                         NaN   \n",
      "16859                       NaN                         NaN   \n",
      "\n",
      "       Expected Readmission Rate  Number of Readmissions  Start Date  \\\n",
      "0                            5.6                    38.0  07/01/2010   \n",
      "1                            5.3                    33.0  07/01/2010   \n",
      "2                            4.8                    53.0  07/01/2010   \n",
      "3                            5.7                    95.0  07/01/2010   \n",
      "4                            5.4                    20.0  07/01/2010   \n",
      "5                            5.3                    19.0  07/01/2010   \n",
      "6                            5.2                    38.0  07/01/2010   \n",
      "7                            6.1                    24.0  07/01/2010   \n",
      "8                            5.3                    15.0  07/01/2010   \n",
      "9                            5.0                    26.0  07/01/2010   \n",
      "10                           6.1                    18.0  07/01/2010   \n",
      "11                           6.3                    17.0  07/01/2010   \n",
      "12                           4.6                    59.0  07/01/2010   \n",
      "13                           5.8                    25.0  07/01/2010   \n",
      "14                           5.2                   116.0  07/01/2010   \n",
      "15                           5.5                    26.0  07/01/2010   \n",
      "16                           5.4                    19.0  07/01/2010   \n",
      "17                           4.9                    15.0  07/01/2010   \n",
      "18                           5.3                    31.0  07/01/2010   \n",
      "19                           5.3                    14.0  07/01/2010   \n",
      "20                           5.3                    44.0  07/01/2010   \n",
      "21                           5.1                    31.0  07/01/2010   \n",
      "22                           5.5                    17.0  07/01/2010   \n",
      "23                           5.8                    21.0  07/01/2010   \n",
      "24                           7.0                    16.0  07/01/2010   \n",
      "25                           5.4                    47.0  07/01/2010   \n",
      "26                           5.3                    26.0  07/01/2010   \n",
      "27                           4.9                   119.0  07/01/2010   \n",
      "28                           5.2                    25.0  07/01/2010   \n",
      "29                           6.1                    11.0  07/01/2010   \n",
      "...                          ...                     ...         ...   \n",
      "16830                        NaN                     NaN  07/01/2010   \n",
      "16831                        NaN                     NaN  07/01/2010   \n",
      "16832                        NaN                     NaN  07/01/2010   \n",
      "16833                        NaN                     NaN  07/01/2010   \n",
      "16834                        NaN                     NaN  07/01/2010   \n",
      "16835                        NaN                     NaN  07/01/2010   \n",
      "16836                        NaN                     NaN  07/01/2010   \n",
      "16837                        NaN                     NaN  07/01/2010   \n",
      "16838                        NaN                     NaN  07/01/2010   \n",
      "16839                        NaN                     NaN  07/01/2010   \n",
      "16840                        NaN                     NaN  07/01/2010   \n",
      "16841                        NaN                     NaN  07/01/2010   \n",
      "16842                        NaN                     NaN  07/01/2010   \n",
      "16843                        NaN                     NaN  07/01/2010   \n",
      "16844                        NaN                     NaN  07/01/2010   \n",
      "16845                        NaN                     NaN  07/01/2010   \n",
      "16846                        NaN                     NaN  07/01/2010   \n",
      "16847                        NaN                     NaN  07/01/2010   \n",
      "16848                        NaN                     NaN  07/01/2010   \n",
      "16849                        NaN                     NaN  07/01/2010   \n",
      "16850                        NaN                     NaN  07/01/2010   \n",
      "16851                        NaN                     NaN  07/01/2010   \n",
      "16852                        NaN                     NaN  07/01/2010   \n",
      "16853                        NaN                     NaN  07/01/2010   \n",
      "16854                        NaN                     NaN  07/01/2010   \n",
      "16855                        NaN                     NaN  07/01/2010   \n",
      "16856                        NaN                     NaN  07/01/2010   \n",
      "16857                        NaN                     NaN  07/01/2010   \n",
      "16858                        NaN                     NaN  07/01/2010   \n",
      "16859                        NaN                     NaN  07/01/2010   \n",
      "\n",
      "         End Date  \n",
      "0      06/30/2013  \n",
      "1      06/30/2013  \n",
      "2      06/30/2013  \n",
      "3      06/30/2013  \n",
      "4      06/30/2013  \n",
      "5      06/30/2013  \n",
      "6      06/30/2013  \n",
      "7      06/30/2013  \n",
      "8      06/30/2013  \n",
      "9      06/30/2013  \n",
      "10     06/30/2013  \n",
      "11     06/30/2013  \n",
      "12     06/30/2013  \n",
      "13     06/30/2013  \n",
      "14     06/30/2013  \n",
      "15     06/30/2013  \n",
      "16     06/30/2013  \n",
      "17     06/30/2013  \n",
      "18     06/30/2013  \n",
      "19     06/30/2013  \n",
      "20     06/30/2013  \n",
      "21     06/30/2013  \n",
      "22     06/30/2013  \n",
      "23     06/30/2013  \n",
      "24     06/30/2013  \n",
      "25     06/30/2013  \n",
      "26     06/30/2013  \n",
      "27     06/30/2013  \n",
      "28     06/30/2013  \n",
      "29     06/30/2013  \n",
      "...           ...  \n",
      "16830  06/30/2013  \n",
      "16831  06/30/2013  \n",
      "16832  06/30/2013  \n",
      "16833  06/30/2013  \n",
      "16834  06/30/2013  \n",
      "16835  06/30/2013  \n",
      "16836  06/30/2013  \n",
      "16837  06/30/2013  \n",
      "16838  06/30/2013  \n",
      "16839  06/30/2013  \n",
      "16840  06/30/2013  \n",
      "16841  06/30/2013  \n",
      "16842  06/30/2013  \n",
      "16843  06/30/2013  \n",
      "16844  06/30/2013  \n",
      "16845  06/30/2013  \n",
      "16846  06/30/2013  \n",
      "16847  06/30/2013  \n",
      "16848  06/30/2013  \n",
      "16849  06/30/2013  \n",
      "16850  06/30/2013  \n",
      "16851  06/30/2013  \n",
      "16852  06/30/2013  \n",
      "16853  06/30/2013  \n",
      "16854  06/30/2013  \n",
      "16855  06/30/2013  \n",
      "16856  06/30/2013  \n",
      "16857  06/30/2013  \n",
      "16858  06/30/2013  \n",
      "16859  06/30/2013  \n",
      "\n",
      "[16860 rows x 12 columns]\n"
     ]
    }
   ],
   "source": [
    "# read in readmissions data provided\n",
    "hospital_read_df = pd.read_csv('data/cms_hospital_readmissions.csv')\n",
    "print(hospital_read_df)"
   ]
  },
  {
   "cell_type": "markdown",
   "metadata": {},
   "source": [
    "****\n",
    "## Preliminary Analysis"
   ]
  },
  {
   "cell_type": "code",
   "execution_count": 3,
   "metadata": {
    "collapsed": false
   },
   "outputs": [
    {
     "name": "stderr",
     "output_type": "stream",
     "text": [
      "/Users/Gary/anaconda/lib/python2.7/site-packages/pandas/core/indexing.py:477: SettingWithCopyWarning: \n",
      "A value is trying to be set on a copy of a slice from a DataFrame.\n",
      "Try using .loc[row_indexer,col_indexer] = value instead\n",
      "\n",
      "See the caveats in the documentation: http://pandas.pydata.org/pandas-docs/stable/indexing.html#indexing-view-versus-copy\n",
      "  self.obj[item] = s\n"
     ]
    }
   ],
   "source": [
    "# deal with missing and inconvenient portions of data \n",
    "clean_hospital_read_df = hospital_read_df[hospital_read_df['Number of Discharges'] != 'Not Available']\n",
    "clean_hospital_read_df.loc[:, 'Number of Discharges'] = clean_hospital_read_df['Number of Discharges'].astype(int)\n",
    "clean_hospital_read_df = clean_hospital_read_df.sort_values('Number of Discharges')"
   ]
  },
  {
   "cell_type": "code",
   "execution_count": 4,
   "metadata": {
    "collapsed": false
   },
   "outputs": [
    {
     "data": {
      "image/png": "[encoded data removed]",
      "text/plain": [
       "<matplotlib.figure.Figure at 0x10e82d150>"
      ]
     },
     "metadata": {},
     "output_type": "display_data"
    }
   ],
   "source": [
    "# generate a scatterplot for number of discharges vs. excess rate of readmissions\n",
    "# lists work better with matplotlib scatterplot function\n",
    "x = [a for a in clean_hospital_read_df['Number of Discharges'][81:-3]]\n",
    "y = list(clean_hospital_read_df['Excess Readmission Ratio'][81:-3])\n",
    "\n",
    "fig, ax = plt.subplots(figsize=(8,5))\n",
    "ax.scatter(x, y,alpha=0.2)\n",
    "\n",
    "ax.fill_between([0,350], 1.15, 2, facecolor='red', alpha = .15, interpolate=True)\n",
    "ax.fill_between([800,2500], .5, .95, facecolor='green', alpha = .15, interpolate=True)\n",
    "\n",
    "ax.set_xlim([0, max(x)])\n",
    "ax.set_xlabel('Number of discharges', fontsize=12)\n",
    "ax.set_ylabel('Excess rate of readmissions', fontsize=12)\n",
    "ax.set_title('Scatterplot of number of discharges vs. excess rate of readmissions', fontsize=14)\n",
    "\n",
    "ax.grid(True)\n",
    "fig.tight_layout()"
   ]
  },
  {
   "cell_type": "markdown",
   "metadata": {},
   "source": [
    "****\n",
    "\n",
    "## Preliminary Report\n",
    "\n",
    "Read the following results/report. While you are reading it, think about if the conclusions are correct, incorrect, misleading or unfounded. Think about what you would change or what additional analyses you would perform.\n",
    "\n",
    "**A. Initial observations based on the plot above**\n",
    "+ Overall, rate of readmissions is trending down with increasing number of discharges\n",
    "+ With lower number of discharges, there is a greater incidence of excess rate of readmissions (area shaded red)\n",
    "+ With higher number of discharges, there is a greater incidence of lower rates of readmissions (area shaded green) \n",
    "\n",
    "**B. Statistics**\n",
    "+ In hospitals/facilities with number of discharges < 100, mean excess readmission rate is 1.023 and 63% have excess readmission rate greater than 1 \n",
    "+ In hospitals/facilities with number of discharges > 1000, mean excess readmission rate is 0.978 and 44% have excess readmission rate greater than 1 \n",
    "\n",
    "**C. Conclusions**\n",
    "+ There is a significant correlation between hospital capacity (number of discharges) and readmission rates. \n",
    "+ Smaller hospitals/facilities may be lacking necessary resources to ensure quality care and prevent complications that lead to readmissions.\n",
    "\n",
    "**D. Regulatory policy recommendations**\n",
    "+ Hospitals/facilties with small capacity (< 300) should be required to demonstrate upgraded resource allocation for quality care to continue operation.\n",
    "+ Directives and incentives should be provided for consolidation of hospitals and facilities to have a smaller number of them with higher capacity and number of discharges."
   ]
  },
  {
   "cell_type": "markdown",
   "metadata": {},
   "source": [
    "****\n",
    "<div class=\"span5 alert alert-info\">\n",
    "### Exercise\n",
    "\n",
    "Include your work on the following **in this notebook and submit to your Github account**. \n",
    "\n",
    "A. Do you agree with the above analysis and recommendations? Why or why not?\n",
    "   \n",
    "B. Provide support for your arguments and your own recommendations with a statistically sound analysis:\n",
    "\n",
    "   1. Setup an appropriate hypothesis test.\n",
    "   2. Compute and report the observed significance value (or p-value).\n",
    "   3. Report statistical significance for $\\alpha$ = .01. \n",
    "   4. Discuss statistical significance and practical significance. Do they differ here? How does this change your recommendation to the client?\n",
    "   5. Look at the scatterplot above. \n",
    "      - What are the advantages and disadvantages of using this plot to convey information?\n",
    "      - Construct another plot that conveys the same information in a more direct manner.\n",
    "\n",
    "\n",
    "\n",
    "You can compose in notebook cells using Markdown: \n",
    "+ In the control panel at the top, choose Cell > Cell Type > Markdown\n",
    "+ Markdown syntax: http://nestacms.com/docs/creating-content/markdown-cheat-sheet\n",
    "</div>\n",
    "****"
   ]
  },
  {
   "cell_type": "markdown",
   "metadata": {
    "collapsed": true
   },
   "source": [
    "# A. Do you agree with the above analysis and recommendations? Why or why not?\n",
    "\n",
    "I do not agree.\n",
    "While the above analysis and recommendations give a inverse proportionate relation between the number discharges and readmission rates, there was no statistical test or hypothesis test done to prove that the data was handled with having a certain capacity of hospital. This analysis is inconsistent and require further statistical analysis to prove its significance for analysis that was done on a population than sample testing."
   ]
  },
  {
   "cell_type": "markdown",
   "metadata": {
    "collapsed": true
   },
   "source": [
    "# B. Provide support for your arguments and your own recommendations with a statistically sound analysis:\n",
    "Setup an appropriate hypothesis test."
   ]
  },
  {
   "cell_type": "markdown",
   "metadata": {},
   "source": [
    "Ho: Null hypothesis states that there is no correlation between the number of discharges and readmission rates\n",
    "\n",
    "H1 The alternative hypothesis will state that Null hypothesis states that there is correlation between the number of discharges and readmission rates."
   ]
  },
  {
   "cell_type": "markdown",
   "metadata": {},
   "source": [
    "Compute and report the observed significance value (or p-value)."
   ]
  },
  {
   "cell_type": "code",
   "execution_count": 5,
   "metadata": {
    "collapsed": false
   },
   "outputs": [
    {
     "data": {
      "text/plain": [
       "count    13731.000000\n",
       "mean         1.002582\n",
       "std          0.091088\n",
       "min          0.549500\n",
       "25%          0.949500\n",
       "50%          0.997100\n",
       "75%          1.052350\n",
       "max          1.909500\n",
       "Name: Excess Readmission Ratio, dtype: float64"
      ]
     },
     "execution_count": 5,
     "metadata": {},
     "output_type": "execute_result"
    }
   ],
   "source": [
    "# finding out the statistical data for the ratio of excess readmission\n",
    "hospital_read_df['Excess Readmission Ratio'].describe()"
   ]
  },
  {
   "cell_type": "code",
   "execution_count": 6,
   "metadata": {
    "collapsed": false
   },
   "outputs": [
    {
     "data": {
      "text/plain": [
       "Hospital Name                     0\n",
       "Provider Number                   0\n",
       "State                             0\n",
       "Measure Name                      0\n",
       "Number of Discharges              0\n",
       "Footnote                      13731\n",
       "Excess Readmission Ratio       3129\n",
       "Predicted Readmission Rate     3129\n",
       "Expected Readmission Rate      3129\n",
       "Number of Readmissions         5363\n",
       "Start Date                        0\n",
       "End Date                          0\n",
       "dtype: int64"
      ]
     },
     "execution_count": 6,
     "metadata": {},
     "output_type": "execute_result"
    }
   ],
   "source": [
    "hospital_read_df.isnull().sum() #checking for missing data, Readmission ratio has 3129"
   ]
  },
  {
   "cell_type": "code",
   "execution_count": 7,
   "metadata": {
    "collapsed": false
   },
   "outputs": [
    {
     "data": {
      "text/plain": [
       "count    2234.000000\n",
       "mean        0.977254\n",
       "std         0.081908\n",
       "min         0.629900\n",
       "25%         0.937050\n",
       "50%         0.974600\n",
       "75%         1.016075\n",
       "max         1.328700\n",
       "Name: Excess Readmission Ratio, dtype: float64"
      ]
     },
     "execution_count": 7,
     "metadata": {},
     "output_type": "execute_result"
    }
   ],
   "source": [
    "hospital_read_df['Excess Readmission Ratio'][hospital_read_df['Number of Discharges'] == 'Not Available'].describe()"
   ]
  },
  {
   "cell_type": "markdown",
   "metadata": {},
   "source": [
    "We want to be able to work on data without the missing data."
   ]
  },
  {
   "cell_type": "code",
   "execution_count": 8,
   "metadata": {
    "collapsed": false
   },
   "outputs": [
    {
     "data": {
      "text/html": [
       "<div>\n",
       "<table border=\"1\" class=\"dataframe\">\n",
       "  <thead>\n",
       "    <tr style=\"text-align: right;\">\n",
       "      <th></th>\n",
       "      <th>Hospital Name</th>\n",
       "      <th>Provider Number</th>\n",
       "      <th>State</th>\n",
       "      <th>Measure Name</th>\n",
       "      <th>Number of Discharges</th>\n",
       "      <th>Footnote</th>\n",
       "      <th>Excess Readmission Ratio</th>\n",
       "      <th>Predicted Readmission Rate</th>\n",
       "      <th>Expected Readmission Rate</th>\n",
       "      <th>Number of Readmissions</th>\n",
       "      <th>Start Date</th>\n",
       "      <th>End Date</th>\n",
       "    </tr>\n",
       "  </thead>\n",
       "  <tbody>\n",
       "    <tr>\n",
       "      <th>0</th>\n",
       "      <td>FROEDTERT MEMORIAL LUTHERAN HOSPITAL</td>\n",
       "      <td>520177</td>\n",
       "      <td>WI</td>\n",
       "      <td>READM-30-HIP-KNEE-HRRP</td>\n",
       "      <td>242</td>\n",
       "      <td>NaN</td>\n",
       "      <td>1.9095</td>\n",
       "      <td>10.8</td>\n",
       "      <td>5.6</td>\n",
       "      <td>38.0</td>\n",
       "      <td>07/01/2010</td>\n",
       "      <td>06/30/2013</td>\n",
       "    </tr>\n",
       "    <tr>\n",
       "      <th>1</th>\n",
       "      <td>PROVIDENCE HOSPITAL</td>\n",
       "      <td>90006</td>\n",
       "      <td>DC</td>\n",
       "      <td>READM-30-HIP-KNEE-HRRP</td>\n",
       "      <td>247</td>\n",
       "      <td>NaN</td>\n",
       "      <td>1.7521</td>\n",
       "      <td>9.2</td>\n",
       "      <td>5.3</td>\n",
       "      <td>33.0</td>\n",
       "      <td>07/01/2010</td>\n",
       "      <td>06/30/2013</td>\n",
       "    </tr>\n",
       "    <tr>\n",
       "      <th>2</th>\n",
       "      <td>BEAUFORT COUNTY MEMORIAL HOSPITAL</td>\n",
       "      <td>420067</td>\n",
       "      <td>SC</td>\n",
       "      <td>READM-30-HIP-KNEE-HRRP</td>\n",
       "      <td>586</td>\n",
       "      <td>NaN</td>\n",
       "      <td>1.5836</td>\n",
       "      <td>7.6</td>\n",
       "      <td>4.8</td>\n",
       "      <td>53.0</td>\n",
       "      <td>07/01/2010</td>\n",
       "      <td>06/30/2013</td>\n",
       "    </tr>\n",
       "    <tr>\n",
       "      <th>3</th>\n",
       "      <td>ADVOCATE CHRIST HOSPITAL &amp; MEDICAL CENTER</td>\n",
       "      <td>140208</td>\n",
       "      <td>IL</td>\n",
       "      <td>READM-30-HIP-KNEE-HRRP</td>\n",
       "      <td>965</td>\n",
       "      <td>NaN</td>\n",
       "      <td>1.5760</td>\n",
       "      <td>9.0</td>\n",
       "      <td>5.7</td>\n",
       "      <td>95.0</td>\n",
       "      <td>07/01/2010</td>\n",
       "      <td>06/30/2013</td>\n",
       "    </tr>\n",
       "    <tr>\n",
       "      <th>4</th>\n",
       "      <td>BRAZOSPORT REGIONAL HEALTH SYSTEM</td>\n",
       "      <td>450072</td>\n",
       "      <td>TX</td>\n",
       "      <td>READM-30-HIP-KNEE-HRRP</td>\n",
       "      <td>149</td>\n",
       "      <td>NaN</td>\n",
       "      <td>1.5308</td>\n",
       "      <td>8.2</td>\n",
       "      <td>5.4</td>\n",
       "      <td>20.0</td>\n",
       "      <td>07/01/2010</td>\n",
       "      <td>06/30/2013</td>\n",
       "    </tr>\n",
       "  </tbody>\n",
       "</table>\n",
       "</div>"
      ],
      "text/plain": [
       "                               Hospital Name  Provider Number State  \\\n",
       "0       FROEDTERT MEMORIAL LUTHERAN HOSPITAL           520177    WI   \n",
       "1                        PROVIDENCE HOSPITAL            90006    DC   \n",
       "2          BEAUFORT COUNTY MEMORIAL HOSPITAL           420067    SC   \n",
       "3  ADVOCATE CHRIST HOSPITAL & MEDICAL CENTER           140208    IL   \n",
       "4          BRAZOSPORT REGIONAL HEALTH SYSTEM           450072    TX   \n",
       "\n",
       "             Measure Name Number of Discharges  Footnote  \\\n",
       "0  READM-30-HIP-KNEE-HRRP                  242       NaN   \n",
       "1  READM-30-HIP-KNEE-HRRP                  247       NaN   \n",
       "2  READM-30-HIP-KNEE-HRRP                  586       NaN   \n",
       "3  READM-30-HIP-KNEE-HRRP                  965       NaN   \n",
       "4  READM-30-HIP-KNEE-HRRP                  149       NaN   \n",
       "\n",
       "   Excess Readmission Ratio  Predicted Readmission Rate  \\\n",
       "0                    1.9095                        10.8   \n",
       "1                    1.7521                         9.2   \n",
       "2                    1.5836                         7.6   \n",
       "3                    1.5760                         9.0   \n",
       "4                    1.5308                         8.2   \n",
       "\n",
       "   Expected Readmission Rate  Number of Readmissions  Start Date    End Date  \n",
       "0                        5.6                    38.0  07/01/2010  06/30/2013  \n",
       "1                        5.3                    33.0  07/01/2010  06/30/2013  \n",
       "2                        4.8                    53.0  07/01/2010  06/30/2013  \n",
       "3                        5.7                    95.0  07/01/2010  06/30/2013  \n",
       "4                        5.4                    20.0  07/01/2010  06/30/2013  "
      ]
     },
     "execution_count": 8,
     "metadata": {},
     "output_type": "execute_result"
    }
   ],
   "source": [
    "#Filtering off the rows that number of discharges is not available\n",
    "no_missing=hospital_read_df[hospital_read_df['Number of Discharges']!='Not Available']\n",
    "no_missing=no_missing[no_missing['Number of Readmissions'].notnull()]\n",
    "no_missing.head()"
   ]
  },
  {
   "cell_type": "code",
   "execution_count": 9,
   "metadata": {
    "collapsed": false
   },
   "outputs": [
    {
     "data": {
      "text/plain": [
       "Hospital Name                     0\n",
       "Provider Number                   0\n",
       "State                             0\n",
       "Measure Name                      0\n",
       "Number of Discharges              0\n",
       "Footnote                      11497\n",
       "Excess Readmission Ratio          0\n",
       "Predicted Readmission Rate        0\n",
       "Expected Readmission Rate         0\n",
       "Number of Readmissions            0\n",
       "Start Date                        0\n",
       "End Date                          0\n",
       "dtype: int64"
      ]
     },
     "execution_count": 9,
     "metadata": {},
     "output_type": "execute_result"
    }
   ],
   "source": [
    "from matplotlib import rcParams\n",
    "import scipy.stats as stats\n",
    "%matplotlib inline\n",
    "import seaborn as sns\n",
    "sns.set_style(\"whitegrid\")\n",
    "\n",
    "no_missing['Number of Discharges']=pd.to_numeric(no_missing['Number of Discharges'])\n",
    "#check again for missing values\n",
    "no_missing.isnull().sum()"
   ]
  },
  {
   "cell_type": "code",
   "execution_count": 10,
   "metadata": {
    "collapsed": false
   },
   "outputs": [
    {
     "data": {
      "text/html": [
       "<div>\n",
       "<table border=\"1\" class=\"dataframe\">\n",
       "  <thead>\n",
       "    <tr style=\"text-align: right;\">\n",
       "      <th></th>\n",
       "      <th>Provider Number</th>\n",
       "      <th>Number of Discharges</th>\n",
       "      <th>Footnote</th>\n",
       "      <th>Excess Readmission Ratio</th>\n",
       "      <th>Predicted Readmission Rate</th>\n",
       "      <th>Expected Readmission Rate</th>\n",
       "      <th>Number of Readmissions</th>\n",
       "    </tr>\n",
       "  </thead>\n",
       "  <tbody>\n",
       "    <tr>\n",
       "      <th>Provider Number</th>\n",
       "      <td>1.000000</td>\n",
       "      <td>-0.008849</td>\n",
       "      <td>NaN</td>\n",
       "      <td>-0.012112</td>\n",
       "      <td>-0.009049</td>\n",
       "      <td>-0.003710</td>\n",
       "      <td>-0.009099</td>\n",
       "    </tr>\n",
       "    <tr>\n",
       "      <th>Number of Discharges</th>\n",
       "      <td>-0.008849</td>\n",
       "      <td>1.000000</td>\n",
       "      <td>NaN</td>\n",
       "      <td>-0.097398</td>\n",
       "      <td>-0.135163</td>\n",
       "      <td>-0.131091</td>\n",
       "      <td>0.791272</td>\n",
       "    </tr>\n",
       "    <tr>\n",
       "      <th>Footnote</th>\n",
       "      <td>NaN</td>\n",
       "      <td>NaN</td>\n",
       "      <td>NaN</td>\n",
       "      <td>NaN</td>\n",
       "      <td>NaN</td>\n",
       "      <td>NaN</td>\n",
       "      <td>NaN</td>\n",
       "    </tr>\n",
       "    <tr>\n",
       "      <th>Excess Readmission Ratio</th>\n",
       "      <td>-0.012112</td>\n",
       "      <td>-0.097398</td>\n",
       "      <td>NaN</td>\n",
       "      <td>1.000000</td>\n",
       "      <td>0.200039</td>\n",
       "      <td>-0.031104</td>\n",
       "      <td>0.117600</td>\n",
       "    </tr>\n",
       "    <tr>\n",
       "      <th>Predicted Readmission Rate</th>\n",
       "      <td>-0.009049</td>\n",
       "      <td>-0.135163</td>\n",
       "      <td>NaN</td>\n",
       "      <td>0.200039</td>\n",
       "      <td>1.000000</td>\n",
       "      <td>0.965420</td>\n",
       "      <td>0.361033</td>\n",
       "    </tr>\n",
       "    <tr>\n",
       "      <th>Expected Readmission Rate</th>\n",
       "      <td>-0.003710</td>\n",
       "      <td>-0.131091</td>\n",
       "      <td>NaN</td>\n",
       "      <td>-0.031104</td>\n",
       "      <td>0.965420</td>\n",
       "      <td>1.000000</td>\n",
       "      <td>0.330527</td>\n",
       "    </tr>\n",
       "    <tr>\n",
       "      <th>Number of Readmissions</th>\n",
       "      <td>-0.009099</td>\n",
       "      <td>0.791272</td>\n",
       "      <td>NaN</td>\n",
       "      <td>0.117600</td>\n",
       "      <td>0.361033</td>\n",
       "      <td>0.330527</td>\n",
       "      <td>1.000000</td>\n",
       "    </tr>\n",
       "  </tbody>\n",
       "</table>\n",
       "</div>"
      ],
      "text/plain": [
       "                            Provider Number  Number of Discharges  Footnote  \\\n",
       "Provider Number                    1.000000             -0.008849       NaN   \n",
       "Number of Discharges              -0.008849              1.000000       NaN   \n",
       "Footnote                                NaN                   NaN       NaN   \n",
       "Excess Readmission Ratio          -0.012112             -0.097398       NaN   \n",
       "Predicted Readmission Rate        -0.009049             -0.135163       NaN   \n",
       "Expected Readmission Rate         -0.003710             -0.131091       NaN   \n",
       "Number of Readmissions            -0.009099              0.791272       NaN   \n",
       "\n",
       "                            Excess Readmission Ratio  \\\n",
       "Provider Number                            -0.012112   \n",
       "Number of Discharges                       -0.097398   \n",
       "Footnote                                         NaN   \n",
       "Excess Readmission Ratio                    1.000000   \n",
       "Predicted Readmission Rate                  0.200039   \n",
       "Expected Readmission Rate                  -0.031104   \n",
       "Number of Readmissions                      0.117600   \n",
       "\n",
       "                            Predicted Readmission Rate  \\\n",
       "Provider Number                              -0.009049   \n",
       "Number of Discharges                         -0.135163   \n",
       "Footnote                                           NaN   \n",
       "Excess Readmission Ratio                      0.200039   \n",
       "Predicted Readmission Rate                    1.000000   \n",
       "Expected Readmission Rate                     0.965420   \n",
       "Number of Readmissions                        0.361033   \n",
       "\n",
       "                            Expected Readmission Rate  Number of Readmissions  \n",
       "Provider Number                             -0.003710               -0.009099  \n",
       "Number of Discharges                        -0.131091                0.791272  \n",
       "Footnote                                          NaN                     NaN  \n",
       "Excess Readmission Ratio                    -0.031104                0.117600  \n",
       "Predicted Readmission Rate                   0.965420                0.361033  \n",
       "Expected Readmission Rate                    1.000000                0.330527  \n",
       "Number of Readmissions                       0.330527                1.000000  "
      ]
     },
     "execution_count": 10,
     "metadata": {},
     "output_type": "execute_result"
    }
   ],
   "source": [
    "#Footnote missing is ok, now we need to find correlation between the number of discharges and excess readmission ratio\n",
    "no_missing.corr()"
   ]
  },
  {
   "cell_type": "code",
   "execution_count": 11,
   "metadata": {
    "collapsed": true
   },
   "outputs": [],
   "source": [
    "# the value -0.097398 has appeared to be correlated\n",
    "corr= -0.097398\n",
    "pop= 11497\n"
   ]
  },
  {
   "cell_type": "markdown",
   "metadata": {},
   "source": [
    "The total data is 11497 rows, and negative correlation is shown by the result above so, when the number of discharges increase, the discharges does not increase drastically, but rather slowly"
   ]
  },
  {
   "cell_type": "markdown",
   "metadata": {},
   "source": [
    "# Calculating the p value using t test"
   ]
  },
  {
   "cell_type": "code",
   "execution_count": 12,
   "metadata": {
    "collapsed": false
   },
   "outputs": [
    {
     "data": {
      "text/plain": [
       "1.2224686234119185e-25"
      ]
     },
     "execution_count": 12,
     "metadata": {},
     "output_type": "execute_result"
    }
   ],
   "source": [
    "tval=(corr*((pop-2)/(1-corr**2))**0.5)\n",
    "p_value1 = stats.t.sf(np.abs(tval), (pop-2))*2  # two-sided pvalue = Prob(abs(t)>tt)\n",
    "p_value1"
   ]
  },
  {
   "cell_type": "markdown",
   "metadata": {},
   "source": [
    "For p value < 0.05, the null hypothesis is rejected and hence the altenative hypothesis is true for that there is correlation between the number of discharges and readmission rates. "
   ]
  },
  {
   "cell_type": "markdown",
   "metadata": {},
   "source": [
    "# Report statistical significance for  α= .01."
   ]
  },
  {
   "cell_type": "markdown",
   "metadata": {
    "collapsed": true
   },
   "source": [
    "there will be no statistical difference for the pvalue for the mentioned α value and α= .05 as the calculation does not include α."
   ]
  },
  {
   "cell_type": "markdown",
   "metadata": {},
   "source": [
    "# Discuss statistical significance and practical significance. Do they differ here? How does this change your recommendation to the client?"
   ]
  },
  {
   "cell_type": "markdown",
   "metadata": {},
   "source": [
    "Statistical significance takes into account the value achieved by sampling computation from a small error to a big one depending on the sample size, like the sample size for this case. Besides, practical significance discusses the case towards application in reality. The difference in the two terms are on the correlation. Statistically this can be proven, the recommendation I would give to the client is to hire an analyst to observed and compute the dataset to understand the confirmation for the correlation of the number of discharges and excess readmission ratio."
   ]
  },
  {
   "cell_type": "code",
   "execution_count": 13,
   "metadata": {
    "collapsed": false
   },
   "outputs": [
    {
     "data": {
      "image/png": "[encoded data removed]",
      "text/plain": [
       "<matplotlib.figure.Figure at 0x10b5db650>"
      ]
     },
     "metadata": {},
     "output_type": "display_data"
    }
   ],
   "source": [
    "\n",
    "import seaborn as sns\n",
    "sns.set_style(\"whitegrid\")\n",
    "ax = sns.boxplot(x=no_missing['Number of Discharges'])\n"
   ]
  },
  {
   "cell_type": "code",
   "execution_count": 14,
   "metadata": {
    "collapsed": true
   },
   "outputs": [],
   "source": [
    "#now for the ratio of the excess readmission, we can categorize them into two groupsof hospitals, low and high readmission.\n",
    "low_readmission=no_missing[no_missing['Excess Readmission Ratio']<=1]\n",
    "high_readmission=no_missing[no_missing['Excess Readmission Ratio']>1]"
   ]
  },
  {
   "cell_type": "code",
   "execution_count": 15,
   "metadata": {
    "collapsed": false
   },
   "outputs": [
    {
     "data": {
      "text/plain": [
       "<matplotlib.legend.Legend at 0x110eb1c50>"
      ]
     },
     "execution_count": 15,
     "metadata": {},
     "output_type": "execute_result"
    },
    {
     "data": {
      "image/png": "[encoded data removed]",
      "text/plain": [
       "<matplotlib.figure.Figure at 0x110c5d750>"
      ]
     },
     "metadata": {},
     "output_type": "display_data"
    }
   ],
   "source": [
    "plt.scatter(low_readmission['Number of Discharges'], low_readmission['Excess Readmission Ratio'], c='g', label=\"ERR<=1\", alpha=0.10)\n",
    "plt.scatter(high_readmission['Number of Discharges'], high_readmission['Excess Readmission Ratio'], c='r', label='ERR>1', alpha=0.1)\n",
    "plt.xlabel('Number of Discharges')\n",
    "plt.ylabel('Excess Readmission Ratio')\n",
    "plt.title('Scatter plot of Number of Discharges vs Excess Readmissions Ratio')\n",
    "plt.legend()"
   ]
  },
  {
   "cell_type": "markdown",
   "metadata": {},
   "source": [
    "# Look at the scatterplot above.\n",
    "What are the advantages and disadvantages of using this plot to convey information?\n",
    "Construct another plot that conveys the same information in a more direct manner."
   ]
  },
  {
   "cell_type": "markdown",
   "metadata": {},
   "source": [
    "The pros of the plot is that for the points shown in the scatter plots, it has clear grid it falls under, the cons is that it is hard to tell where the boundary between both low and high readmission lies although there the plots are of different colors. Below will show a plot with a trendline that cuts in between the two variables"
   ]
  },
  {
   "cell_type": "code",
   "execution_count": 16,
   "metadata": {
    "collapsed": false
   },
   "outputs": [],
   "source": [
    "from scipy import stats  \n",
    "x=no_missing['Number of Discharges']\n",
    "y=no_missing['Excess Readmission Ratio']\n",
    "slope, yintercept, rval, pval, std_err = stats.linregress(x,y)"
   ]
  },
  {
   "cell_type": "code",
   "execution_count": 17,
   "metadata": {
    "collapsed": false
   },
   "outputs": [
    {
     "ename": "NameError",
     "evalue": "name 'intercept' is not defined",
     "output_type": "error",
     "traceback": [
      "\u001b[0;31m---------------------------------------------------------------------------\u001b[0m",
      "\u001b[0;31mNameError\u001b[0m                                 Traceback (most recent call last)",
      "\u001b[0;32m<ipython-input-17-9d287abab771>\u001b[0m in \u001b[0;36m<module>\u001b[0;34m()\u001b[0m\n\u001b[0;32m----> 1\u001b[0;31m \u001b[0;32mprint\u001b[0m\u001b[0;34m(\u001b[0m\u001b[0mslope\u001b[0m\u001b[0;34m,\u001b[0m \u001b[0mintercept\u001b[0m\u001b[0;34m,\u001b[0m \u001b[0mr_value\u001b[0m\u001b[0;34m,\u001b[0m \u001b[0mp_value\u001b[0m\u001b[0;34m,\u001b[0m \u001b[0mstd_err\u001b[0m\u001b[0;34m)\u001b[0m\u001b[0;34m\u001b[0m\u001b[0m\n\u001b[0m",
      "\u001b[0;31mNameError\u001b[0m: name 'intercept' is not defined"
     ]
    }
   ],
   "source": [
    "print(slope, intercept, r_value, p_value, std_err)"
   ]
  },
  {
   "cell_type": "code",
   "execution_count": null,
   "metadata": {
    "collapsed": true
   },
   "outputs": [],
   "source": [
    "X=no_missing['Number of Discharges'].sort_values()\n",
    "trendline=(-2.901e-05)*X + 1.02"
   ]
  },
  {
   "cell_type": "code",
   "execution_count": null,
   "metadata": {
    "collapsed": false
   },
   "outputs": [],
   "source": [
    "plt.scatter(low_readmission['Number of Discharges'], low_readmission['Excess Readmission Ratio'], c='g', label=\"ERR<=1\", alpha=0.10)\n",
    "plt.scatter(high_readmission['Number of Discharges'], high_readmission['Excess Readmission Ratio'], c='r', label='ERR>1', alpha=0.1)\n",
    "plt.plot(X, trendline, c='b', label='trend line')\n",
    "\n",
    "plt.xlabel('Number of Discharges')\n",
    "plt.ylabel('Excess Readmission Ratio')\n",
    "plt.title('Number of Discharges vs Excess Readmissions Ratio w/ added trendline')\n",
    "plt.legend()"
   ]
  }
 ],
 "metadata": {
  "anaconda-cloud": {},
  "kernelspec": {
   "display_name": "Python 2",
   "language": "python",
   "name": "python2"
  },
  "language_info": {
   "codemirror_mode": {
    "name": "ipython",
    "version": 2
   },
   "file_extension": ".py",
   "mimetype": "text/x-python",
   "name": "python",
   "nbconvert_exporter": "python",
   "pygments_lexer": "ipython2",
   "version": "2.7.13"
  }
 },
 "nbformat": 4,
 "nbformat_minor": 0
}
